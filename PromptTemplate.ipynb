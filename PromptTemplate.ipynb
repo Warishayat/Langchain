{
  "nbformat": 4,
  "nbformat_minor": 0,
  "metadata": {
    "colab": {
      "provenance": [],
      "gpuType": "T4"
    },
    "kernelspec": {
      "name": "python3",
      "display_name": "Python 3"
    },
    "language_info": {
      "name": "python"
    },
    "accelerator": "GPU"
  },
  "cells": [
    {
      "cell_type": "code",
      "execution_count": 1,
      "metadata": {
        "id": "SN8SgbjDeVuZ"
      },
      "outputs": [],
      "source": [
        "api_key =\"gsk_sGswUo72Lqbgh85X6G4ZWGdyb3FYcF9ceaCj000000000000l\""
      ]
    },
    {
      "cell_type": "code",
      "source": [
        "import os\n",
        "os.environ['GROQ_API_KEY'] = \"gsk_sGswUo72Lqbgh85X6G4ZWGdyb3FYcF9ceaCj0000000000l\""
      ],
      "metadata": {
        "id": "L30YttsaebbW"
      },
      "execution_count": 8,
      "outputs": []
    },
    {
      "cell_type": "code",
      "source": [],
      "metadata": {
        "id": "PFGJyjeJ-abt"
      },
      "execution_count": null,
      "outputs": []
    },
    {
      "cell_type": "code",
      "source": [],
      "metadata": {
        "id": "ha5FYL6f-aXW"
      },
      "execution_count": null,
      "outputs": []
    },
    {
      "cell_type": "code",
      "source": [
        "!pip install langchain_groq"
      ],
      "metadata": {
        "colab": {
          "base_uri": "https://localhost:8080/"
        },
        "id": "g9KfrlWSe-Qn",
        "outputId": "4cb570b2-2c8a-4966-a547-39f2073a372b"
      },
      "execution_count": 10,
      "outputs": [
        {
          "output_type": "stream",
          "name": "stdout",
          "text": [
            "Collecting langchain_groq\n",
            "  Downloading langchain_groq-0.2.1-py3-none-any.whl.metadata (2.9 kB)\n",
            "Collecting groq<1,>=0.4.1 (from langchain_groq)\n",
            "  Downloading groq-0.12.0-py3-none-any.whl.metadata (13 kB)\n",
            "Requirement already satisfied: langchain-core<0.4.0,>=0.3.15 in /usr/local/lib/python3.10/dist-packages (from langchain_groq) (0.3.19)\n",
            "Requirement already satisfied: anyio<5,>=3.5.0 in /usr/local/lib/python3.10/dist-packages (from groq<1,>=0.4.1->langchain_groq) (3.7.1)\n",
            "Requirement already satisfied: distro<2,>=1.7.0 in /usr/local/lib/python3.10/dist-packages (from groq<1,>=0.4.1->langchain_groq) (1.9.0)\n",
            "Requirement already satisfied: httpx<1,>=0.23.0 in /usr/local/lib/python3.10/dist-packages (from groq<1,>=0.4.1->langchain_groq) (0.27.2)\n",
            "Requirement already satisfied: pydantic<3,>=1.9.0 in /usr/local/lib/python3.10/dist-packages (from groq<1,>=0.4.1->langchain_groq) (2.9.2)\n",
            "Requirement already satisfied: sniffio in /usr/local/lib/python3.10/dist-packages (from groq<1,>=0.4.1->langchain_groq) (1.3.1)\n",
            "Requirement already satisfied: typing-extensions<5,>=4.7 in /usr/local/lib/python3.10/dist-packages (from groq<1,>=0.4.1->langchain_groq) (4.12.2)\n",
            "Requirement already satisfied: PyYAML>=5.3 in /usr/local/lib/python3.10/dist-packages (from langchain-core<0.4.0,>=0.3.15->langchain_groq) (6.0.2)\n",
            "Requirement already satisfied: jsonpatch<2.0,>=1.33 in /usr/local/lib/python3.10/dist-packages (from langchain-core<0.4.0,>=0.3.15->langchain_groq) (1.33)\n",
            "Requirement already satisfied: langsmith<0.2.0,>=0.1.125 in /usr/local/lib/python3.10/dist-packages (from langchain-core<0.4.0,>=0.3.15->langchain_groq) (0.1.143)\n",
            "Requirement already satisfied: packaging<25,>=23.2 in /usr/local/lib/python3.10/dist-packages (from langchain-core<0.4.0,>=0.3.15->langchain_groq) (24.2)\n",
            "Requirement already satisfied: tenacity!=8.4.0,<10.0.0,>=8.1.0 in /usr/local/lib/python3.10/dist-packages (from langchain-core<0.4.0,>=0.3.15->langchain_groq) (9.0.0)\n",
            "Requirement already satisfied: idna>=2.8 in /usr/local/lib/python3.10/dist-packages (from anyio<5,>=3.5.0->groq<1,>=0.4.1->langchain_groq) (3.10)\n",
            "Requirement already satisfied: exceptiongroup in /usr/local/lib/python3.10/dist-packages (from anyio<5,>=3.5.0->groq<1,>=0.4.1->langchain_groq) (1.2.2)\n",
            "Requirement already satisfied: certifi in /usr/local/lib/python3.10/dist-packages (from httpx<1,>=0.23.0->groq<1,>=0.4.1->langchain_groq) (2024.8.30)\n",
            "Requirement already satisfied: httpcore==1.* in /usr/local/lib/python3.10/dist-packages (from httpx<1,>=0.23.0->groq<1,>=0.4.1->langchain_groq) (1.0.7)\n",
            "Requirement already satisfied: h11<0.15,>=0.13 in /usr/local/lib/python3.10/dist-packages (from httpcore==1.*->httpx<1,>=0.23.0->groq<1,>=0.4.1->langchain_groq) (0.14.0)\n",
            "Requirement already satisfied: jsonpointer>=1.9 in /usr/local/lib/python3.10/dist-packages (from jsonpatch<2.0,>=1.33->langchain-core<0.4.0,>=0.3.15->langchain_groq) (3.0.0)\n",
            "Requirement already satisfied: orjson<4.0.0,>=3.9.14 in /usr/local/lib/python3.10/dist-packages (from langsmith<0.2.0,>=0.1.125->langchain-core<0.4.0,>=0.3.15->langchain_groq) (3.10.11)\n",
            "Requirement already satisfied: requests<3,>=2 in /usr/local/lib/python3.10/dist-packages (from langsmith<0.2.0,>=0.1.125->langchain-core<0.4.0,>=0.3.15->langchain_groq) (2.32.3)\n",
            "Requirement already satisfied: requests-toolbelt<2.0.0,>=1.0.0 in /usr/local/lib/python3.10/dist-packages (from langsmith<0.2.0,>=0.1.125->langchain-core<0.4.0,>=0.3.15->langchain_groq) (1.0.0)\n",
            "Requirement already satisfied: annotated-types>=0.6.0 in /usr/local/lib/python3.10/dist-packages (from pydantic<3,>=1.9.0->groq<1,>=0.4.1->langchain_groq) (0.7.0)\n",
            "Requirement already satisfied: pydantic-core==2.23.4 in /usr/local/lib/python3.10/dist-packages (from pydantic<3,>=1.9.0->groq<1,>=0.4.1->langchain_groq) (2.23.4)\n",
            "Requirement already satisfied: charset-normalizer<4,>=2 in /usr/local/lib/python3.10/dist-packages (from requests<3,>=2->langsmith<0.2.0,>=0.1.125->langchain-core<0.4.0,>=0.3.15->langchain_groq) (3.4.0)\n",
            "Requirement already satisfied: urllib3<3,>=1.21.1 in /usr/local/lib/python3.10/dist-packages (from requests<3,>=2->langsmith<0.2.0,>=0.1.125->langchain-core<0.4.0,>=0.3.15->langchain_groq) (2.2.3)\n",
            "Downloading langchain_groq-0.2.1-py3-none-any.whl (14 kB)\n",
            "Downloading groq-0.12.0-py3-none-any.whl (108 kB)\n",
            "\u001b[2K   \u001b[90m━━━━━━━━━━━━━━━━━━━━━━━━━━━━━━━━━━━━━━━━\u001b[0m \u001b[32m108.9/108.9 kB\u001b[0m \u001b[31m5.7 MB/s\u001b[0m eta \u001b[36m0:00:00\u001b[0m\n",
            "\u001b[?25hInstalling collected packages: groq, langchain_groq\n",
            "Successfully installed groq-0.12.0 langchain_groq-0.2.1\n"
          ]
        }
      ]
    },
    {
      "cell_type": "code",
      "source": [
        "from langchain_groq import ChatGroq\n",
        "\n",
        "llm = ChatGroq(\n",
        "    model=\"mixtral-8x7b-32768\",\n",
        "    temperature=0.0,\n",
        "    max_retries=2,\n",
        "    # other params...\n",
        ")"
      ],
      "metadata": {
        "id": "BJxw4nJOe16T"
      },
      "execution_count": 11,
      "outputs": []
    },
    {
      "cell_type": "code",
      "source": [
        "llm.invoke(\"Hello how are you\").content"
      ],
      "metadata": {
        "colab": {
          "base_uri": "https://localhost:8080/",
          "height": 52
        },
        "id": "Zf5SEaIce7vx",
        "outputId": "ce589530-8824-4c0b-82b8-78321b970767"
      },
      "execution_count": 7,
      "outputs": [
        {
          "output_type": "execute_result",
          "data": {
            "text/plain": [
              "\"Hello! I'm just a computer program, so I don't have feelings, but I'm here and ready to help you with any language-related questions you have. Is there something specific you would like to ask or talk about? I'm here to help!\""
            ],
            "application/vnd.google.colaboratory.intrinsic+json": {
              "type": "string"
            }
          },
          "metadata": {},
          "execution_count": 7
        }
      ]
    },
    {
      "cell_type": "code",
      "source": [
        "from langchain_core.prompts import PromptTemplate"
      ],
      "metadata": {
        "id": "JRYrazD8fHML"
      },
      "execution_count": 10,
      "outputs": []
    },
    {
      "cell_type": "markdown",
      "source": [
        "# **Prompt for one variable**"
      ],
      "metadata": {
        "id": "xxLHdXyJi7dp"
      }
    },
    {
      "cell_type": "code",
      "source": [
        "prompt = PromptTemplate.from_template(\"tell me joke about {topic}\")\n",
        "formattedPrompt = prompt.format(topic=\"cats\")\n",
        "print(formattedPrompt)\n",
        "\n",
        "llm.invoke(formattedPrompt).content"
      ],
      "metadata": {
        "colab": {
          "base_uri": "https://localhost:8080/",
          "height": 52
        },
        "id": "_wA09QiBfotO",
        "outputId": "97091094-a752-4be0-bb11-c3e39b99f6ff"
      },
      "execution_count": 15,
      "outputs": [
        {
          "output_type": "stream",
          "name": "stdout",
          "text": [
            "tell me joke about cats\n"
          ]
        },
        {
          "output_type": "execute_result",
          "data": {
            "text/plain": [
              "\"Sure, here's a cat joke for you:\\n\\nWhy don't cats play poker in the jungle?\\n\\nToo many cheetahs!\""
            ],
            "application/vnd.google.colaboratory.intrinsic+json": {
              "type": "string"
            }
          },
          "metadata": {},
          "execution_count": 15
        }
      ]
    },
    {
      "cell_type": "code",
      "source": [
        "prompt = PromptTemplate.from_template(\"You are a helpful Question answering assistant provide answer based on the {question}\")\n",
        "formattedPrompt = prompt.format(question=\"what is machine learning\")\n",
        "print(formattedPrompt)\n",
        "\n",
        "llm.invoke(formattedPrompt).content"
      ],
      "metadata": {
        "colab": {
          "base_uri": "https://localhost:8080/",
          "height": 226
        },
        "id": "3spE9_CMgFIy",
        "outputId": "5a828daa-fb85-4d4c-846c-4644ccc39b5b"
      },
      "execution_count": 26,
      "outputs": [
        {
          "output_type": "stream",
          "name": "stdout",
          "text": [
            "You are a helpful Question answering assistant provide answer based on the what is machine learning\n"
          ]
        },
        {
          "output_type": "execute_result",
          "data": {
            "text/plain": [
              "'Machine learning is a type of artificial intelligence (AI) that allows computers to learn and improve their performance on a task without being explicitly programmed. It involves the use of algorithms that can analyze data, identify patterns and make predictions based on that data.\\n\\nIn machine learning, the computer is trained on a dataset, which it uses to learn and make predictions. The accuracy of the predictions is then evaluated, and the model is adjusted as needed based on the evaluation. This process of training, evaluation, and adjustment is repeated until the model achieves a satisfactory level of accuracy.\\n\\nThere are three main types of machine learning: supervised learning, unsupervised learning, and reinforcement learning.\\n\\n* In supervised learning, the model is trained on a labeled dataset, where the correct output or \"label\" is provided for each input. The model uses this information to learn the relationship between the inputs and the outputs.\\n* In unsupervised learning, the model is trained on an unlabeled dataset, and it must identify patterns and structure in the data on its own.\\n* In reinforcement learning, the model learns by interacting with its environment and receiving rewards or penalties for its actions.\\n\\nMachine learning has a wide range of applications, including image and speech recognition, natural language processing, and predictive analytics. It is used in many industries, such as healthcare, finance, and manufacturing, to improve efficiency, accuracy, and decision-making.'"
            ],
            "application/vnd.google.colaboratory.intrinsic+json": {
              "type": "string"
            }
          },
          "metadata": {},
          "execution_count": 26
        }
      ]
    },
    {
      "cell_type": "markdown",
      "source": [
        "# **Prompt input for multiplt variable**"
      ],
      "metadata": {
        "id": "Wjn6HCBDi_QN"
      }
    },
    {
      "cell_type": "code",
      "source": [
        "prompt1 = PromptTemplate(input_variables=[\"person\" , \"famous\"],\n",
        "                         template=\"who is {person} and why is {famous} \")\n",
        "\n",
        "multiplePrompt = prompt1.format(person=\"imran khan\",famous=\"famous for his circket\")\n",
        "print(multiplePrompt)\n",
        "\n",
        "print(llm.invoke(multiplePrompt).content)"
      ],
      "metadata": {
        "colab": {
          "base_uri": "https://localhost:8080/"
        },
        "id": "7gH-vP21h0si",
        "outputId": "a814e177-e16b-4ff1-936b-42eb54bfc500"
      },
      "execution_count": 32,
      "outputs": [
        {
          "output_type": "stream",
          "name": "stdout",
          "text": [
            "who is imran khan and why is famous for his circket \n",
            "Imran Khan is a former Pakistani cricketer who is widely regarded as one of the greatest all-rounders in the history of the game. He was born on November 25, 1952, in Lahore, Pakistan.\n",
            "\n",
            "Imran Khan was a right-handed batsman and a right-arm fast bowler who played for the Pakistani national team from 1971 to 1992. He was known for his aggressive style of play, his ability to score quickly, and his skill as a bowler. Imran Khan led Pakistan to victory in the 1992 Cricket World Cup, which was the country's first-ever World Cup title.\n",
            "\n",
            "Imran Khan was also a successful captain, leading Pakistan in 48 Test matches and 139 One Day Internationals (ODIs). He is the only captain in history to have led his team to victory in both the World Cup and the World Championship of Cricket.\n",
            "\n",
            "Imran Khan's contributions to cricket went beyond his playing career. After retiring from the game, he became involved in politics and served as the Prime Minister of Pakistan from 2018 to 2022. He has also been involved in various charitable activities, including the establishment of the Shaukat Khanum Memorial Cancer Hospital and Research Centre in Lahore.\n",
            "\n",
            "Imran Khan's fame and legacy in cricket are due to his exceptional skills as a player, his leadership qualities, and his contributions to the game both on and off the field.\n"
          ]
        }
      ]
    },
    {
      "cell_type": "code",
      "source": [
        "from langchain_core.prompts import ChatPromptTemplate,HumanMessagePromptTemplate,SystemMessagePromptTemplate,PromptTemplate"
      ],
      "metadata": {
        "id": "o-zgz2hDj1dl"
      },
      "execution_count": 13,
      "outputs": []
    },
    {
      "cell_type": "code",
      "source": [
        "chatPrompt = ChatPromptTemplate.from_messages([\n",
        "    (\"system\",\"You are a helpful  health assistant that tell people why this {disease} happen and how to save from it\")\n",
        "    ,(\"human\",\"{text}\")\n",
        "])\n"
      ],
      "metadata": {
        "id": "WBj-FMj8k5JB"
      },
      "execution_count": 37,
      "outputs": []
    },
    {
      "cell_type": "code",
      "source": [
        "formattedChatPrompt = chatPrompt.format_messages(\n",
        "    disease =\"diabetes\",\n",
        "    text  = \"I have diabetes\"\n",
        ")\n",
        "\n",
        "llm.invoke(formattedChatPrompt)"
      ],
      "metadata": {
        "colab": {
          "base_uri": "https://localhost:8080/"
        },
        "id": "31OI4t8flcmQ",
        "outputId": "36f287f4-46f1-4c14-d9ff-504b90a2273d"
      },
      "execution_count": 51,
      "outputs": [
        {
          "output_type": "execute_result",
          "data": {
            "text/plain": [
              "AIMessage(content=\"I'm sorry to hear that you have been diagnosed with diabetes. Diabetes occurs when your body is unable to properly regulate blood sugar levels. This can happen for a few different reasons:\\n\\n1. The body does not produce enough insulin, a hormone that helps cells absorb glucose (sugar) from the bloodstream. This is known as type 1 diabetes.\\n2. The body does not use insulin effectively, a condition known as insulin resistance. This is the most common form of diabetes and is known as type 2 diabetes.\\n3. Gestational diabetes, which occurs during pregnancy, is caused by hormonal changes that make the body less sensitive to insulin.\\n\\nThere are several risk factors for developing type 2 diabetes, including:\\n\\n* Being overweight or obese\\n* Having a family history of diabetes\\n* Having a sedentary lifestyle\\n* Having high blood pressure or high cholesterol\\n* Being of a certain age (risk increases after age 45)\\n* Belonging to certain racial or ethnic groups (including African Americans, Hispanic/Latino Americans, and Native Americans)\\n\\nWhile it is not possible to completely reverse diabetes, there are steps you can take to manage the condition and reduce your risk of complications. These include:\\n\\n1. Maintaining a healthy weight through a combination of diet and exercise.\\n2. Eating a balanced diet that is low in added sugars and refined carbohydrates and high in fruits, vegetables, and whole grains.\\n3. Getting regular physical activity.\\n4. Monitoring your blood sugar levels and taking any medications prescribed by your doctor as directed.\\n5. Working with your healthcare team to manage any other health conditions you may have, such as high blood pressure or high cholesterol.\\n\\nBy making these lifestyle changes, you can help improve your blood sugar control and reduce your risk of complications from diabetes. It's also important to continue working with your healthcare team to manage your condition and make any necessary adjustments to your treatment plan.\", additional_kwargs={}, response_metadata={'token_usage': {'completion_tokens': 442, 'prompt_tokens': 31, 'total_tokens': 473, 'completion_time': 0.713126357, 'prompt_time': 0.011620829, 'queue_time': 0.12860376, 'total_time': 0.724747186}, 'model_name': 'mixtral-8x7b-32768', 'system_fingerprint': 'fp_c5f20b5bb1', 'finish_reason': 'stop', 'logprobs': None}, id='run-8aca0889-6fe2-4ecb-9a3b-07c19f873844-0', usage_metadata={'input_tokens': 31, 'output_tokens': 442, 'total_tokens': 473})"
            ]
          },
          "metadata": {},
          "execution_count": 51
        }
      ]
    },
    {
      "cell_type": "code",
      "source": [],
      "metadata": {
        "id": "8uqOWh5PmCTc"
      },
      "execution_count": 18,
      "outputs": []
    },
    {
      "cell_type": "code",
      "source": [
        "from langchain_core.prompts import ChatMessagePromptTemplate,HumanMessagePromptTemplate,SystemMessagePromptTemplate"
      ],
      "metadata": {
        "id": "5qW-e_Va7IJG"
      },
      "execution_count": 2,
      "outputs": []
    },
    {
      "cell_type": "code",
      "source": [
        "message=PromptTemplate.from_template(\"who is the {person} and why is {famous}\")\n",
        "formatPrompt = message.format(person=\"virat kohli\",famous=\"for his bowling\")\n",
        "llm.invoke(formatPrompt)"
      ],
      "metadata": {
        "colab": {
          "base_uri": "https://localhost:8080/"
        },
        "id": "fwV3jDn07QY_",
        "outputId": "6c2840a8-499c-4171-9e08-bf1f8aea9e08"
      },
      "execution_count": 18,
      "outputs": [
        {
          "output_type": "execute_result",
          "data": {
            "text/plain": [
              "AIMessage(content='Virat Kohli is a well-known Indian cricketer, considered one of the best batsmen in the world. However, he is not famous for his bowling. Kohli is primarily known for his exceptional batting skills in all formats of the game. He is the current captain of the Indian national team in Test and One Day International (ODI) cricket, and has led the team to numerous victories. Kohli has also been awarded several accolades for his outstanding performances on the field, including the ICC ODI Player of the Year award in 2017 and 2018.\\n\\nWhile Kohli can bowl occasionally, he is not known for his bowling skills. He is primarily a batsman and has made a significant impact on the game with his batting.', additional_kwargs={}, response_metadata={'token_usage': {'completion_tokens': 174, 'prompt_tokens': 23, 'total_tokens': 197, 'completion_time': 0.277175092, 'prompt_time': 0.002512462, 'queue_time': 0.012106947, 'total_time': 0.279687554}, 'model_name': 'mixtral-8x7b-32768', 'system_fingerprint': 'fp_c5f20b5bb1', 'finish_reason': 'stop', 'logprobs': None}, id='run-8a48bd5b-4470-4f06-8d59-55c0c3739844-0', usage_metadata={'input_tokens': 23, 'output_tokens': 174, 'total_tokens': 197})"
            ]
          },
          "metadata": {},
          "execution_count": 18
        }
      ]
    },
    {
      "cell_type": "code",
      "source": [],
      "metadata": {
        "id": "lxWw-QIc_I8s"
      },
      "execution_count": null,
      "outputs": []
    },
    {
      "cell_type": "code",
      "source": [
        "#Chef Ai Application"
      ],
      "metadata": {
        "id": "zfhzdFMD9Ic0"
      },
      "execution_count": 19,
      "outputs": []
    },
    {
      "cell_type": "code",
      "source": [
        "#in this project we will make a project like Master chef AI ,in this application whwn user enter about the dish model will provide the recepie for that\n"
      ],
      "metadata": {
        "id": "cdROuOV-_XpR"
      },
      "execution_count": 20,
      "outputs": []
    },
    {
      "cell_type": "code",
      "source": [
        "from langchain_groq import ChatGroq\n",
        "\n",
        "llm = ChatGroq(\n",
        "    model=\"mixtral-8x7b-32768\",\n",
        "    temperature=0.0,\n",
        "    max_retries=2,\n",
        "    # other params...\n",
        ")"
      ],
      "metadata": {
        "id": "aaTiMGPV_pyD"
      },
      "execution_count": 21,
      "outputs": []
    },
    {
      "cell_type": "code",
      "source": [
        "from langchain.prompts import ChatPromptTemplate"
      ],
      "metadata": {
        "id": "I7HZR06h_87h"
      },
      "execution_count": 30,
      "outputs": []
    },
    {
      "cell_type": "code",
      "source": [
        "dish = input(\"Enter the name of the recepie: \")"
      ],
      "metadata": {
        "colab": {
          "base_uri": "https://localhost:8080/"
        },
        "id": "sRpoG7EtAFYz",
        "outputId": "deed371d-9c5c-4376-e0ae-3e6242ceedf7"
      },
      "execution_count": 35,
      "outputs": [
        {
          "name": "stdout",
          "output_type": "stream",
          "text": [
            "Enter the name of the recepie: paneer\n"
          ]
        }
      ]
    },
    {
      "cell_type": "code",
      "source": [
        "message=PromptTemplate.from_template(\"who is the receipe for this {dish}\")\n",
        "formatPrompt = message.format(dish=\"ban kabab\")\n",
        "llm.invoke(formatPrompt).content.split(\"\\n\")"
      ],
      "metadata": {
        "colab": {
          "base_uri": "https://localhost:8080/"
        },
        "id": "rvnxpB2EERGB",
        "outputId": "ae2f25de-c7aa-4f02-c4a1-b73e92fa6bbb"
      },
      "execution_count": 53,
      "outputs": [
        {
          "output_type": "execute_result",
          "data": {
            "text/plain": [
              "[\"I'd be happy to help you with a recipe for bahn mi, but it seems like there was a typo in your message and you're actually looking for a recipe for bana kabab. Here is a simple recipe for bana kabab:\",\n",
              " '',\n",
              " 'Ingredients:',\n",
              " '',\n",
              " '* 2 ripe plantains (peeled and cut into large chunks)',\n",
              " '* 1 onion (finely chopped)',\n",
              " '* 2 cloves of garlic (minced)',\n",
              " '* 1 inch of ginger (grated)',\n",
              " '* 1 green chili (finely chopped)',\n",
              " '* 1 teaspoon of cumin powder',\n",
              " '* 1 teaspoon of coriander powder',\n",
              " '* 1/2 teaspoon of turmeric powder',\n",
              " '* 1/2 teaspoon of red chili powder',\n",
              " '* Salt to taste',\n",
              " '* 2 tablespoons of oil',\n",
              " '* Wooden skewers',\n",
              " '',\n",
              " 'Instructions:',\n",
              " '',\n",
              " '1. Preheat your grill or broiler.',\n",
              " '2. In a large bowl, mash the plantains until they are smooth.',\n",
              " '3. Add the chopped onion, minced garlic, grated ginger, finely chopped green chili, cumin powder, coriander powder, turmeric powder, red chili powder, and salt. Mix well.',\n",
              " '4. Divide the mixture into equal portions and shape them into oval-shaped patties.',\n",
              " '5. Insert a wooden skewer through each patty.',\n",
              " '6. Heat oil in a pan over medium heat.',\n",
              " '7. Place the skewers in the pan and cook for 2-3 minutes on each side or until they are golden brown and cooked through.',\n",
              " '8. Serve hot with your favorite dipping sauce.',\n",
              " '',\n",
              " 'I hope you enjoy this recipe! Let me know if you have any questions.']"
            ]
          },
          "metadata": {},
          "execution_count": 53
        }
      ]
    },
    {
      "cell_type": "code",
      "source": [],
      "metadata": {
        "id": "Bu3zxNIlEfF5"
      },
      "execution_count": 46,
      "outputs": []
    },
    {
      "cell_type": "code",
      "source": [],
      "metadata": {
        "id": "MPc3LsbCBkS8"
      },
      "execution_count": 51,
      "outputs": []
    },
    {
      "cell_type": "code",
      "source": [],
      "metadata": {
        "id": "Xght2YCaB6_j"
      },
      "execution_count": null,
      "outputs": []
    }
  ]
}