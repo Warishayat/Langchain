{
  "nbformat": 4,
  "nbformat_minor": 0,
  "metadata": {
    "colab": {
      "provenance": []
    },
    "kernelspec": {
      "name": "python3",
      "display_name": "Python 3"
    },
    "language_info": {
      "name": "python"
    }
  },
  "cells": [
    {
      "cell_type": "code",
      "execution_count": 1,
      "metadata": {
        "colab": {
          "base_uri": "https://localhost:8080/"
        },
        "id": "jqB_x86Jqudd",
        "outputId": "9de1b4f0-73ea-4ecc-a49f-ac936832f25d"
      },
      "outputs": [
        {
          "output_type": "stream",
          "name": "stdout",
          "text": [
            "Requirement already satisfied: langchain in /usr/local/lib/python3.11/dist-packages (0.3.15)\n",
            "Collecting langchain_community\n",
            "  Downloading langchain_community-0.3.15-py3-none-any.whl.metadata (2.9 kB)\n",
            "\u001b[31mERROR: Could not find a version that satisfies the requirement langgrpah (from versions: none)\u001b[0m\u001b[31m\n",
            "\u001b[0m\u001b[31mERROR: No matching distribution found for langgrpah\u001b[0m\u001b[31m\n",
            "\u001b[0m"
          ]
        }
      ],
      "source": [
        "!pip install langgraph\n",
        "!pip install langchain_community\n",
        "!pip install langchain\n",
        "!pip install -U duckduckgo-search\n",
        "!pip install google-search-results #for serpapi"
      ]
    },
    {
      "cell_type": "code",
      "source": [
        "from google.colab import userdata\n",
        "groq_pi_key=userdata.get('groq_api_key')\n",
        "lang_smith=userdata.get('lang_smith')\n",
        "serp_api_key = userdata.get(\"serp_api_key\")"
      ],
      "metadata": {
        "id": "4GxbSyBorVjs"
      },
      "execution_count": 39,
      "outputs": []
    },
    {
      "cell_type": "code",
      "source": [
        "import os\n",
        "os.environ[\"GROQ_API_KEY\"] = groq_pi_key\n",
        "os.environ[\"LANGCHAIN_TRACING_V2\"] = \"true\"\n",
        "os.environ[\"LANGCHAIN_ENDPOINT\"] = \"https://api.smith.langchain.com\"\n",
        "os.environ[\"LANGSMITH_API_KEY\"] = lang_smith\n",
        "os.environ[\"SERPAPI_API_KEY\"] = serp_api_key"
      ],
      "metadata": {
        "id": "hjVl78V6rhPl"
      },
      "execution_count": 40,
      "outputs": []
    },
    {
      "cell_type": "code",
      "source": [
        "import langchain\n",
        "from langchain_community.tools import DuckDuckGoSearchRun\n",
        "from serpapi import GoogleSearch\n",
        "from langchain.agents import initialize_agent,Tool\n",
        "from langchain_groq import ChatGroq\n",
        "from langchain.prompts import ChatPromptTemplate\n",
        "from langchain.schema.output_parser import StrOutputParser"
      ],
      "metadata": {
        "id": "-7yKtZxEr6BK"
      },
      "execution_count": 79,
      "outputs": []
    },
    {
      "cell_type": "code",
      "source": [
        "llm = ChatGroq(\n",
        "    model=\"llama-3.3-70b-versatile\",\n",
        "    api_key=groq_pi_key,\n",
        "    verbose=True,\n",
        ")"
      ],
      "metadata": {
        "id": "FnHPYH8QsaAl"
      },
      "execution_count": 11,
      "outputs": []
    },
    {
      "cell_type": "code",
      "source": [
        "llm.invoke(\"Do You know about myself?\")"
      ],
      "metadata": {
        "colab": {
          "base_uri": "https://localhost:8080/"
        },
        "id": "KYsU2Tp4tKTz",
        "outputId": "d903ac7b-8195-47da-9435-2acba595cd1f"
      },
      "execution_count": 12,
      "outputs": [
        {
          "output_type": "execute_result",
          "data": {
            "text/plain": [
              "AIMessage(content=\"I don't have any personal information about you. I'm a large language model, I don't have the ability to know or store information about individual users, including their personal details, preferences, or history. Each time you interact with me, it's a new conversation and I start from a blank slate.\\n\\nHowever, I can try to get to know you better through our conversation. If you'd like to share something about yourself, I'm all ears (or rather, all text)! What would you like to talk about?\", additional_kwargs={}, response_metadata={'token_usage': {'completion_tokens': 107, 'prompt_tokens': 41, 'total_tokens': 148, 'completion_time': 0.389090909, 'prompt_time': 0.004666811, 'queue_time': 0.00252171, 'total_time': 0.39375772}, 'model_name': 'llama-3.3-70b-versatile', 'system_fingerprint': 'fp_564b785073', 'finish_reason': 'stop', 'logprobs': None}, id='run-85669b7a-0ee2-4059-8bdb-9f62db5cc1e2-0', usage_metadata={'input_tokens': 41, 'output_tokens': 107, 'total_tokens': 148})"
            ]
          },
          "metadata": {},
          "execution_count": 12
        }
      ]
    },
    {
      "cell_type": "code",
      "source": [
        "#initialize the tools\n",
        "search = DuckDuckGoSearchRun()\n",
        "tools =[\n",
        "    Tool(\n",
        "        name=\"Duck-Duck-Search-Tool\",\n",
        "        func = search.run,\n",
        "        description = \"useful for when you need to answer questions about current events. You should ask targeted questions\"\n",
        "    )\n",
        "]"
      ],
      "metadata": {
        "id": "KIi9itMntPqZ"
      },
      "execution_count": 71,
      "outputs": []
    },
    {
      "cell_type": "code",
      "source": [
        "search.invoke(\"Do you who is current pm of amercia\")"
      ],
      "metadata": {
        "colab": {
          "base_uri": "https://localhost:8080/",
          "height": 139
        },
        "id": "t2Zcw7eBtWed",
        "outputId": "565443ab-ba74-450c-9e6f-fe473e3e2984"
      },
      "execution_count": 72,
      "outputs": [
        {
          "output_type": "execute_result",
          "data": {
            "text/plain": [
              "\"The White House, official residence of the president of the United States, in July 2008 The president of the United States is the head of state and head of government of the United States, [1] indirectly elected to a four-year term via the Electoral College. [2] The officeholder leads the executive branch of the federal government and is the commander-in-chief of the United States Armed Forces ... As the head of the government of the United States, the president is arguably the most powerful government official in the world. The president is elected to a four-year term via an electoral college system. Since the Twenty-second Amendment was adopted in 1951, the American presidency has been Donald Trump has officially become the 47th president of the United States. In a special ceremony called an inauguration, President Trump took over from Joe Biden as America's new leader. Donald Trump Sworn In as the 47th U.S. President Trump, 78, is the president once again after taking the oath of office from inside the U.S. Capitol rotunda Joe Biden is the 46th president of the United States. He brought decades of political experience and a commitment to unity as he led America through challenging times.\""
            ],
            "application/vnd.google.colaboratory.intrinsic+json": {
              "type": "string"
            }
          },
          "metadata": {},
          "execution_count": 72
        }
      ]
    },
    {
      "cell_type": "code",
      "source": [
        "from langchain.chains.conversation.memory import ConversationBufferWindowMemory\n",
        "memory = ConversationBufferWindowMemory(\n",
        "    memory_key=\"chat_history\",\n",
        "    k=3,\n",
        "    return_messages=True\n",
        ")"
      ],
      "metadata": {
        "id": "meulDo9Swb5h"
      },
      "execution_count": 73,
      "outputs": []
    },
    {
      "cell_type": "code",
      "source": [
        "#initialize the agent\n",
        "agent = initialize_agent(\n",
        "    agent=\"zero-shot-react-description\",\n",
        "    tools=tools,\n",
        "    llm=llm,\n",
        "    memory=memory,\n",
        "    max_iterations=3,\n",
        "    early_stopping_method='generate',\n",
        "    verbose=True,\n",
        ")"
      ],
      "metadata": {
        "id": "R53Xu8yNvfex"
      },
      "execution_count": 74,
      "outputs": []
    },
    {
      "cell_type": "code",
      "source": [
        "response=agent.run(\"Do you know where is numl main islamabad is located?\")"
      ],
      "metadata": {
        "colab": {
          "base_uri": "https://localhost:8080/"
        },
        "id": "5wMurIkTwbPT",
        "outputId": "25a4b518-2d98-481f-c439-93e784652ee1"
      },
      "execution_count": 77,
      "outputs": [
        {
          "output_type": "stream",
          "name": "stdout",
          "text": [
            "\n",
            "\n",
            "\u001b[1m> Entering new AgentExecutor chain...\u001b[0m\n",
            "\u001b[32;1m\u001b[1;3mTo answer this question, I should first try to find information about \"NUML\" and its location in Islamabad. \n",
            "\n",
            "Action: Duck-Duck-Search-Tool\n",
            "Action Input: NUML Islamabad location\u001b[0m\n",
            "Observation: \u001b[36;1m\u001b[1;3mThe National University of Modern Languages (also known as NUML) is a multi-campus, public research university which was established in 1970. The main campus of the NUML is situated in capital of Pakistan called Islamabad and the sub campuses are located in all four provinces of Pakistan. Choosing NUML university as Career? Things you need to know about admission's season, fee structure, departments and more information about NUML University Islamabad. National University of Modern Languages H-9 Islamabad ,Pakistan +92-51-9265100 info@numl.edu.pk About the University / University Details This University was Established in 1970, National University of Modern Languages is a non-profit public higher-education institution located in the urban setting of the metropolis of Islamabad (The area population ranges between this figures 1,000,000-5,000,000 inhabitants), Islamabad CT. The National University of Modern Languages has an acceptance rate of 72%, founded in 1970. Main academic topics: Liberal Arts & Social Sciences, Environmental Science, and Computer Science.\u001b[0m\n",
            "Thought:\u001b[32;1m\u001b[1;3mThought: From the observation, I can see that the main campus of NUML is located in H-9, Islamabad. I should confirm if this information is sufficient to answer the question.\n",
            "\n",
            "Action: None\n",
            "Action Input: None\u001b[0m\n",
            "Observation: None is not a valid tool, try one of [Duck-Duck-Search-Tool].\n",
            "Thought:\u001b[32;1m\u001b[1;3mI now know the final answer\n",
            "\n",
            "Final Answer: The main campus of NUML is located in H-9, Islamabad.\u001b[0m\n",
            "\n",
            "\u001b[1m> Finished chain.\u001b[0m\n"
          ]
        }
      ]
    },
    {
      "cell_type": "code",
      "source": [
        "print(response)"
      ],
      "metadata": {
        "colab": {
          "base_uri": "https://localhost:8080/"
        },
        "id": "_oI8aSJeyQ7b",
        "outputId": "5e2696d4-6b42-4723-f2b4-316f7aa5f1ed"
      },
      "execution_count": 78,
      "outputs": [
        {
          "output_type": "stream",
          "name": "stdout",
          "text": [
            "The main campus of NUML is located in H-9, Islamabad.\n"
          ]
        }
      ]
    },
    {
      "cell_type": "code",
      "source": [
        "response=agent.run(\"what is the capital of faranace??\")"
      ],
      "metadata": {
        "colab": {
          "base_uri": "https://localhost:8080/"
        },
        "id": "vElxcuVpyt1a",
        "outputId": "bc20c7b6-fd2d-4d39-de55-af2ac4ef07b6"
      },
      "execution_count": 80,
      "outputs": [
        {
          "output_type": "stream",
          "name": "stdout",
          "text": [
            "\n",
            "\n",
            "\u001b[1m> Entering new AgentExecutor chain...\u001b[0m\n",
            "\u001b[32;1m\u001b[1;3mThought: The question is asking for the capital of a country, but it seems there is a typo in the country's name. I'm going to take a guess that the country is actually \"France\". To confirm and find the correct answer, I'll use the Duck-Duck-Search-Tool to search for the capital of France.\n",
            "\n",
            "Action: Duck-Duck-Search-Tool\n",
            "Action Input: \"capital of France\"\u001b[0m\n",
            "Observation: \u001b[36;1m\u001b[1;3mLearn about Paris, the national capital of France, located along the Seine River in the north-central part of the country. Explore its geography, climate, culture, landmarks, and role in French history and politics. France, a country of northwestern Europe, is historically and culturally among the most important countries in the Western world. It has also played a highly significant role in international affairs for centuries. Its capital is Paris, one of the most important cultural and commercial centers in the world. Learn why Paris is the capital of France and what makes it a global center for art, fashion, culture, and history. Discover its iconic landmarks, such as the Eiffel Tower, Louvre Museum, Notre-Dame Cathedral, and the Arc de Triomphe. Paris is the capital and largest city of France. With an official estimated population of 2,102,650 residents in January 2023 in an area of more than 105 km2 (4... Paris, being the culinary capital of France, has a gastronomic scene second to none. Here are five essential meals to enjoy while you're in Paris, and each restaurant listed provides a quintessential taste of French cuisine. Croissant. A flaky, buttery French pastry is the perfect start to the day.\u001b[0m\n",
            "Thought:\u001b[32;1m\u001b[1;3mThought: I have found that the capital of France is indeed Paris. Since I assumed the country in question was France due to the typo, I can confidently provide the answer.\n",
            "\n",
            "Final Answer: Paris\u001b[0m\n",
            "\n",
            "\u001b[1m> Finished chain.\u001b[0m\n"
          ]
        }
      ]
    },
    {
      "cell_type": "code",
      "source": [
        "print(response)"
      ],
      "metadata": {
        "colab": {
          "base_uri": "https://localhost:8080/"
        },
        "id": "PkllJnZ865xM",
        "outputId": "d19783ff-7bc0-4e14-af56-602402e44d06"
      },
      "execution_count": 81,
      "outputs": [
        {
          "output_type": "stream",
          "name": "stdout",
          "text": [
            "Paris\n"
          ]
        }
      ]
    },
    {
      "cell_type": "code",
      "source": [
        "agent.memory.load_memory_variables({}) #model memory"
      ],
      "metadata": {
        "colab": {
          "base_uri": "https://localhost:8080/"
        },
        "id": "BV-V60ZI7BuY",
        "outputId": "589c635d-bb18-4b70-e890-0e92b29642db"
      },
      "execution_count": 82,
      "outputs": [
        {
          "output_type": "execute_result",
          "data": {
            "text/plain": [
              "{'chat_history': [HumanMessage(content='Do you know where is numl main islamabad is located?', additional_kwargs={}, response_metadata={}),\n",
              "  AIMessage(content='The main campus of NUML is located in H-9, Islamabad.', additional_kwargs={}, response_metadata={}),\n",
              "  HumanMessage(content='what is the capital of faranace??', additional_kwargs={}, response_metadata={}),\n",
              "  AIMessage(content='Paris', additional_kwargs={}, response_metadata={})]}"
            ]
          },
          "metadata": {},
          "execution_count": 82
        }
      ]
    },
    {
      "cell_type": "code",
      "source": [],
      "metadata": {
        "id": "NrWKSB1x8W7W"
      },
      "execution_count": null,
      "outputs": []
    }
  ]
}